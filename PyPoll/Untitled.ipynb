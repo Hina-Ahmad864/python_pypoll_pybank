{
 "cells": [
  {
   "cell_type": "code",
   "execution_count": 2,
   "metadata": {},
   "outputs": [
    {
     "name": "stdout",
     "output_type": "stream",
     "text": [
      "Election Results\n",
      "-------------------------\n",
      "Total Votes: 369711\n",
      "-------------------------\n",
      "Charles Casper Stockham: 23.05% (85213)\n",
      "Diana DeGette: 73.81% (272892)\n",
      "Raymon Anthony Doane: 3.14% (11606)\n",
      "-------------------------\n",
      "Winner: Diana DeGette\n",
      "-------------------------\n"
     ]
    }
   ],
   "source": [
    "import csv\n",
    "\n",
    "# Set up variables\n",
    "total_votes = 0\n",
    "candidates = {}\n",
    "\n",
    "# Open and read csv file\n",
    "filepath = \"Resources/election_data.csv\"\n",
    "with open(filepath, newline='') as csvfile:\n",
    "    csvreader = csv.reader(csvfile, delimiter=',')\n",
    "\n",
    "    # Skip header row\n",
    "    next(csvreader)\n",
    "\n",
    "    # Loop through rows in csv\n",
    "    for row in csvreader:\n",
    "        # Count total number of votes\n",
    "        total_votes += 1\n",
    "\n",
    "        # Get candidate name\n",
    "        candidate_name = row[2]\n",
    "\n",
    "        # Add candidate to dictionary and count their votes\n",
    "        if candidate_name in candidates:\n",
    "            candidates[candidate_name] += 1\n",
    "        else:\n",
    "            candidates[candidate_name] = 1\n",
    "\n",
    "# Calculate percentage of votes for each candidate\n",
    "percentages = {}\n",
    "for candidate_name, votes in candidates.items():\n",
    "    percentages[candidate_name] = round(votes/total_votes * 100, 2)\n",
    "\n",
    "# Find the winner of the election\n",
    "winner = max(candidates, key=candidates.get)\n",
    "\n",
    "# Print results\n",
    "print(\"Election Results\")\n",
    "print(\"-------------------------\")\n",
    "print(f\"Total Votes: {total_votes}\")\n",
    "print(\"-------------------------\")\n",
    "for candidate_name, votes in candidates.items():\n",
    "    print(f\"{candidate_name}: {percentages[candidate_name]}% ({votes})\")\n",
    "print(\"-------------------------\")\n",
    "print(f\"Winner: {winner}\")\n",
    "print(\"-------------------------\")\n",
    "\n",
    "# Save results to a txt file\n",
    "filepathtosave = \"analysis/election_results.txt\"\n",
    "with open(filepathtosave, \"w\") as txtfile:\n",
    "    txtfile.write(\"Election Results\\n\")\n",
    "    txtfile.write(\"-------------------------\\n\")\n",
    "    txtfile.write(f\"Total Votes: {total_votes}\\n\")\n",
    "    txtfile.write(\"-------------------------\\n\")\n",
    "    for candidate_name, votes in candidates.items():\n",
    "        txtfile.write(f\"{candidate_name}: {percentages[candidate_name]}% ({votes})\\n\")\n",
    "    txtfile.write(\"-------------------------\\n\")\n",
    "    txtfile.write(f\"Winner: {winner}\\n\")\n",
    "    txtfile.write(\"-------------------------\\n\")"
   ]
  },
  {
   "cell_type": "code",
   "execution_count": null,
   "metadata": {},
   "outputs": [],
   "source": []
  }
 ],
 "metadata": {
  "kernelspec": {
   "display_name": "Python 3",
   "language": "python",
   "name": "python3"
  },
  "language_info": {
   "codemirror_mode": {
    "name": "ipython",
    "version": 3
   },
   "file_extension": ".py",
   "mimetype": "text/x-python",
   "name": "python",
   "nbconvert_exporter": "python",
   "pygments_lexer": "ipython3",
   "version": "3.7.6"
  }
 },
 "nbformat": 4,
 "nbformat_minor": 4
}
